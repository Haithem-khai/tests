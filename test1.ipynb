{
  "nbformat": 4,
  "nbformat_minor": 0,
  "metadata": {
    "colab": {
      "name": "test1.ipynb",
      "provenance": [],
      "authorship_tag": "ABX9TyOz5PzvlsN/fjEGngi3dv4t",
      "include_colab_link": true
    },
    "kernelspec": {
      "name": "python3",
      "display_name": "Python 3"
    },
    "language_info": {
      "name": "python"
    }
  },
  "cells": [
    {
      "cell_type": "markdown",
      "metadata": {
        "id": "view-in-github",
        "colab_type": "text"
      },
      "source": [
        "<a href=\"https://colab.research.google.com/github/Haithem-khai/tests/blob/master/test1.ipynb\" target=\"_parent\"><img src=\"https://colab.research.google.com/assets/colab-badge.svg\" alt=\"Open In Colab\"/></a>"
      ]
    },
    {
      "cell_type": "code",
      "execution_count": 8,
      "metadata": {
        "colab": {
          "base_uri": "https://localhost:8080/"
        },
        "id": "ed2uxBwX84dH",
        "outputId": "026b17b3-7624-4e1b-de48-80f2b1391bba"
      },
      "outputs": [
        {
          "output_type": "stream",
          "name": "stdout",
          "text": [
            "salam haithem\n",
            "125\n",
            "1.6666666666666667\n"
          ]
        }
      ],
      "source": [
        "print (\"salam haithem\")\n",
        "a = 5\n",
        "b= 3 \n",
        "c = a**b\n",
        "d = a / b\n",
        "print (c)\n",
        "print (d)\n"
      ]
    },
    {
      "cell_type": "markdown",
      "source": [
        "# New Section"
      ],
      "metadata": {
        "id": "vmutS7Rh95qi"
      }
    },
    {
      "cell_type": "code",
      "source": [
        "with  open (\"sample_data/anscombe.json\",'rb') as file:\n",
        "  for line in file.readlines():\n",
        "    print (line )"
      ],
      "metadata": {
        "colab": {
          "base_uri": "https://localhost:8080/"
        },
        "id": "03Wa9hdx-Fjk",
        "outputId": "f85c0be2-b14c-4f21-a072-80119a955f9c"
      },
      "execution_count": 30,
      "outputs": [
        {
          "output_type": "stream",
          "name": "stdout",
          "text": [
            "b'[\\n'\n",
            "b'  {\"Series\":\"I\", \"X\":10.0, \"Y\":8.04},\\n'\n",
            "b'  {\"Series\":\"I\", \"X\":8.0, \"Y\":6.95},\\n'\n",
            "b'  {\"Series\":\"I\", \"X\":13.0, \"Y\":7.58},\\n'\n",
            "b'  {\"Series\":\"I\", \"X\":9.0, \"Y\":8.81},\\n'\n",
            "b'  {\"Series\":\"I\", \"X\":11.0, \"Y\":8.33},\\n'\n",
            "b'  {\"Series\":\"I\", \"X\":14.0, \"Y\":9.96},\\n'\n",
            "b'  {\"Series\":\"I\", \"X\":6.0, \"Y\":7.24},\\n'\n",
            "b'  {\"Series\":\"I\", \"X\":4.0, \"Y\":4.26},\\n'\n",
            "b'  {\"Series\":\"I\", \"X\":12.0, \"Y\":10.84},\\n'\n",
            "b'  {\"Series\":\"I\", \"X\":7.0, \"Y\":4.81},\\n'\n",
            "b'  {\"Series\":\"I\", \"X\":5.0, \"Y\":5.68},\\n'\n",
            "b'\\n'\n",
            "b'  {\"Series\":\"II\", \"X\":10.0, \"Y\":9.14},\\n'\n",
            "b'  {\"Series\":\"II\", \"X\":8.0, \"Y\":8.14},\\n'\n",
            "b'  {\"Series\":\"II\", \"X\":13.0, \"Y\":8.74},\\n'\n",
            "b'  {\"Series\":\"II\", \"X\":9.0, \"Y\":8.77},\\n'\n",
            "b'  {\"Series\":\"II\", \"X\":11.0, \"Y\":9.26},\\n'\n",
            "b'  {\"Series\":\"II\", \"X\":14.0, \"Y\":8.10},\\n'\n",
            "b'  {\"Series\":\"II\", \"X\":6.0, \"Y\":6.13},\\n'\n",
            "b'  {\"Series\":\"II\", \"X\":4.0, \"Y\":3.10},\\n'\n",
            "b'  {\"Series\":\"II\", \"X\":12.0, \"Y\":9.13},\\n'\n",
            "b'  {\"Series\":\"II\", \"X\":7.0, \"Y\":7.26},\\n'\n",
            "b'  {\"Series\":\"II\", \"X\":5.0, \"Y\":4.74},\\n'\n",
            "b'\\n'\n",
            "b'  {\"Series\":\"III\", \"X\":10.0, \"Y\":7.46},\\n'\n",
            "b'  {\"Series\":\"III\", \"X\":8.0, \"Y\":6.77},\\n'\n",
            "b'  {\"Series\":\"III\", \"X\":13.0, \"Y\":12.74},\\n'\n",
            "b'  {\"Series\":\"III\", \"X\":9.0, \"Y\":7.11},\\n'\n",
            "b'  {\"Series\":\"III\", \"X\":11.0, \"Y\":7.81},\\n'\n",
            "b'  {\"Series\":\"III\", \"X\":14.0, \"Y\":8.84},\\n'\n",
            "b'  {\"Series\":\"III\", \"X\":6.0, \"Y\":6.08},\\n'\n",
            "b'  {\"Series\":\"III\", \"X\":4.0, \"Y\":5.39},\\n'\n",
            "b'  {\"Series\":\"III\", \"X\":12.0, \"Y\":8.15},\\n'\n",
            "b'  {\"Series\":\"III\", \"X\":7.0, \"Y\":6.42},\\n'\n",
            "b'  {\"Series\":\"III\", \"X\":5.0, \"Y\":5.73},\\n'\n",
            "b'\\n'\n",
            "b'  {\"Series\":\"IV\", \"X\":8.0, \"Y\":6.58},\\n'\n",
            "b'  {\"Series\":\"IV\", \"X\":8.0, \"Y\":5.76},\\n'\n",
            "b'  {\"Series\":\"IV\", \"X\":8.0, \"Y\":7.71},\\n'\n",
            "b'  {\"Series\":\"IV\", \"X\":8.0, \"Y\":8.84},\\n'\n",
            "b'  {\"Series\":\"IV\", \"X\":8.0, \"Y\":8.47},\\n'\n",
            "b'  {\"Series\":\"IV\", \"X\":8.0, \"Y\":7.04},\\n'\n",
            "b'  {\"Series\":\"IV\", \"X\":8.0, \"Y\":5.25},\\n'\n",
            "b'  {\"Series\":\"IV\", \"X\":19.0, \"Y\":12.50},\\n'\n",
            "b'  {\"Series\":\"IV\", \"X\":8.0, \"Y\":5.56},\\n'\n",
            "b'  {\"Series\":\"IV\", \"X\":8.0, \"Y\":7.91},\\n'\n",
            "b'  {\"Series\":\"IV\", \"X\":8.0, \"Y\":6.89}\\n'\n",
            "b']\\n'\n"
          ]
        }
      ]
    }
  ]
}